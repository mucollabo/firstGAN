{
 "cells": [
  {
   "cell_type": "code",
   "execution_count": 2,
   "metadata": {
    "executionInfo": {
     "elapsed": 3148,
     "status": "ok",
     "timestamp": 1622614817463,
     "user": {
      "displayName": "Charles An",
      "photoUrl": "https://lh3.googleusercontent.com/a-/AOh14Gh8bdyo1RxkkjZ8Cx0L0xxJU5dKXcsMzz-sImHZ=s64",
      "userId": "03663604814907636288"
     },
     "user_tz": -540
    },
    "id": "yHj3dR19YJj6"
   },
   "outputs": [
    {
     "name": "stderr",
     "output_type": "stream",
     "text": [
      "/Users/charles/Documents/GitHub/firstGAN/venv/lib/python3.7/site-packages/torch/package/_mock_zipreader.py:17: UserWarning: Failed to initialize NumPy: numpy.core.multiarray failed to import (Triggered internally at  ../torch/csrc/utils/tensor_numpy.cpp:67.)\n",
      "  _dtype_to_storage = {data_type(0).dtype: data_type for data_type in _storages}\n"
     ]
    }
   ],
   "source": [
    "import torch"
   ]
  },
  {
   "cell_type": "code",
   "execution_count": 3,
   "metadata": {
    "colab": {
     "base_uri": "https://localhost:8080/"
    },
    "executionInfo": {
     "elapsed": 230,
     "status": "ok",
     "timestamp": 1622614844465,
     "user": {
      "displayName": "Charles An",
      "photoUrl": "https://lh3.googleusercontent.com/a-/AOh14Gh8bdyo1RxkkjZ8Cx0L0xxJU5dKXcsMzz-sImHZ=s64",
      "userId": "03663604814907636288"
     },
     "user_tz": -540
    },
    "id": "Lwlla1ttYQj5",
    "outputId": "e19b4b6a-3b6d-4864-f790-1f7f87aef60e"
   },
   "outputs": [
    {
     "name": "stdout",
     "output_type": "stream",
     "text": [
      "tensor(3.5000)\n"
     ]
    }
   ],
   "source": [
    "x = torch.tensor(3.5)\n",
    "\n",
    "print(x)"
   ]
  },
  {
   "cell_type": "code",
   "execution_count": 4,
   "metadata": {
    "colab": {
     "base_uri": "https://localhost:8080/"
    },
    "executionInfo": {
     "elapsed": 222,
     "status": "ok",
     "timestamp": 1622614886704,
     "user": {
      "displayName": "Charles An",
      "photoUrl": "https://lh3.googleusercontent.com/a-/AOh14Gh8bdyo1RxkkjZ8Cx0L0xxJU5dKXcsMzz-sImHZ=s64",
      "userId": "03663604814907636288"
     },
     "user_tz": -540
    },
    "id": "hiC8_U6nYaGI",
    "outputId": "9adab702-4e53-4625-c9c1-0a3a54fd226f"
   },
   "outputs": [
    {
     "name": "stdout",
     "output_type": "stream",
     "text": [
      "tensor(6.5000)\n"
     ]
    }
   ],
   "source": [
    "y = x + 3\n",
    "print(y)"
   ]
  },
  {
   "cell_type": "code",
   "execution_count": 5,
   "metadata": {
    "colab": {
     "base_uri": "https://localhost:8080/"
    },
    "executionInfo": {
     "elapsed": 236,
     "status": "ok",
     "timestamp": 1622614995319,
     "user": {
      "displayName": "Charles An",
      "photoUrl": "https://lh3.googleusercontent.com/a-/AOh14Gh8bdyo1RxkkjZ8Cx0L0xxJU5dKXcsMzz-sImHZ=s64",
      "userId": "03663604814907636288"
     },
     "user_tz": -540
    },
    "id": "OBRb9sx9YkV6",
    "outputId": "013b3769-5f18-40dc-9a14-fa8d37da76df"
   },
   "outputs": [
    {
     "name": "stdout",
     "output_type": "stream",
     "text": [
      "tensor(3.5000, requires_grad=True)\n"
     ]
    }
   ],
   "source": [
    "x = torch.tensor(3.5, requires_grad=True)\n",
    "print(x)"
   ]
  },
  {
   "cell_type": "code",
   "execution_count": 6,
   "metadata": {
    "colab": {
     "base_uri": "https://localhost:8080/"
    },
    "executionInfo": {
     "elapsed": 836,
     "status": "ok",
     "timestamp": 1622615048445,
     "user": {
      "displayName": "Charles An",
      "photoUrl": "https://lh3.googleusercontent.com/a-/AOh14Gh8bdyo1RxkkjZ8Cx0L0xxJU5dKXcsMzz-sImHZ=s64",
      "userId": "03663604814907636288"
     },
     "user_tz": -540
    },
    "id": "E1qEvmbfY-3M",
    "outputId": "554cfefa-1b2c-42cb-fae2-c121632a6208"
   },
   "outputs": [
    {
     "name": "stdout",
     "output_type": "stream",
     "text": [
      "tensor(1.8750, grad_fn=<MulBackward0>)\n"
     ]
    }
   ],
   "source": [
    "y = (x-1) * (x-2) * (x-3)\n",
    "print(y)"
   ]
  },
  {
   "cell_type": "code",
   "execution_count": 7,
   "metadata": {
    "executionInfo": {
     "elapsed": 235,
     "status": "ok",
     "timestamp": 1622615497431,
     "user": {
      "displayName": "Charles An",
      "photoUrl": "https://lh3.googleusercontent.com/a-/AOh14Gh8bdyo1RxkkjZ8Cx0L0xxJU5dKXcsMzz-sImHZ=s64",
      "userId": "03663604814907636288"
     },
     "user_tz": -540
    },
    "id": "Ig0vaH8fZLmq"
   },
   "outputs": [],
   "source": [
    "y.backward()"
   ]
  },
  {
   "cell_type": "code",
   "execution_count": 8,
   "metadata": {
    "colab": {
     "base_uri": "https://localhost:8080/"
    },
    "executionInfo": {
     "elapsed": 220,
     "status": "ok",
     "timestamp": 1622615590777,
     "user": {
      "displayName": "Charles An",
      "photoUrl": "https://lh3.googleusercontent.com/a-/AOh14Gh8bdyo1RxkkjZ8Cx0L0xxJU5dKXcsMzz-sImHZ=s64",
      "userId": "03663604814907636288"
     },
     "user_tz": -540
    },
    "id": "2TGZcDFwa5iU",
    "outputId": "bc979048-a80f-4fa0-a697-dc8f1fa2bfc7"
   },
   "outputs": [
    {
     "data": {
      "text/plain": [
       "tensor(5.7500)"
      ]
     },
     "execution_count": 8,
     "metadata": {},
     "output_type": "execute_result"
    }
   ],
   "source": [
    "x.grad"
   ]
  },
  {
   "cell_type": "code",
   "execution_count": 9,
   "metadata": {
    "executionInfo": {
     "elapsed": 292,
     "status": "ok",
     "timestamp": 1622616091061,
     "user": {
      "displayName": "Charles An",
      "photoUrl": "https://lh3.googleusercontent.com/a-/AOh14Gh8bdyo1RxkkjZ8Cx0L0xxJU5dKXcsMzz-sImHZ=s64",
      "userId": "03663604814907636288"
     },
     "user_tz": -540
    },
    "id": "x7RXmo37bQVN"
   },
   "outputs": [],
   "source": [
    "x = torch.tensor(3.5, requires_grad=True)\n",
    "y = x*x\n",
    "z = 2*y + 3"
   ]
  },
  {
   "cell_type": "code",
   "execution_count": 10,
   "metadata": {
    "executionInfo": {
     "elapsed": 221,
     "status": "ok",
     "timestamp": 1622616114152,
     "user": {
      "displayName": "Charles An",
      "photoUrl": "https://lh3.googleusercontent.com/a-/AOh14Gh8bdyo1RxkkjZ8Cx0L0xxJU5dKXcsMzz-sImHZ=s64",
      "userId": "03663604814907636288"
     },
     "user_tz": -540
    },
    "id": "k-rODsRVdKc-"
   },
   "outputs": [],
   "source": [
    "z.backward()"
   ]
  },
  {
   "cell_type": "code",
   "execution_count": 11,
   "metadata": {
    "colab": {
     "base_uri": "https://localhost:8080/"
    },
    "executionInfo": {
     "elapsed": 227,
     "status": "ok",
     "timestamp": 1622616127476,
     "user": {
      "displayName": "Charles An",
      "photoUrl": "https://lh3.googleusercontent.com/a-/AOh14Gh8bdyo1RxkkjZ8Cx0L0xxJU5dKXcsMzz-sImHZ=s64",
      "userId": "03663604814907636288"
     },
     "user_tz": -540
    },
    "id": "fJ4j9Zy0dQGp",
    "outputId": "90949628-0119-4021-9346-bdf2427d91a2"
   },
   "outputs": [
    {
     "name": "stdout",
     "output_type": "stream",
     "text": [
      "tensor(14.)\n"
     ]
    }
   ],
   "source": [
    "print(x.grad)"
   ]
  },
  {
   "cell_type": "code",
   "execution_count": 12,
   "metadata": {
    "executionInfo": {
     "elapsed": 218,
     "status": "ok",
     "timestamp": 1622616576130,
     "user": {
      "displayName": "Charles An",
      "photoUrl": "https://lh3.googleusercontent.com/a-/AOh14Gh8bdyo1RxkkjZ8Cx0L0xxJU5dKXcsMzz-sImHZ=s64",
      "userId": "03663604814907636288"
     },
     "user_tz": -540
    },
    "id": "GiL3MAl2dTW6"
   },
   "outputs": [],
   "source": [
    "# x,y,z에 관련된 간단한 그래프 설정\n",
    "a = torch.tensor(2.0, requires_grad=True)\n",
    "b = torch.tensor(1.0, requires_grad=True)\n",
    "\n",
    "x = 2*a + 3*b\n",
    "y = 5*a*a + 3*b*b*b\n",
    "z = 2*x + 3*y"
   ]
  },
  {
   "cell_type": "code",
   "execution_count": 13,
   "metadata": {
    "executionInfo": {
     "elapsed": 213,
     "status": "ok",
     "timestamp": 1622616742723,
     "user": {
      "displayName": "Charles An",
      "photoUrl": "https://lh3.googleusercontent.com/a-/AOh14Gh8bdyo1RxkkjZ8Cx0L0xxJU5dKXcsMzz-sImHZ=s64",
      "userId": "03663604814907636288"
     },
     "user_tz": -540
    },
    "id": "dJAGPxSnfA5Q"
   },
   "outputs": [],
   "source": [
    "z.backward()"
   ]
  },
  {
   "cell_type": "code",
   "execution_count": 14,
   "metadata": {
    "colab": {
     "base_uri": "https://localhost:8080/"
    },
    "executionInfo": {
     "elapsed": 230,
     "status": "ok",
     "timestamp": 1622616757525,
     "user": {
      "displayName": "Charles An",
      "photoUrl": "https://lh3.googleusercontent.com/a-/AOh14Gh8bdyo1RxkkjZ8Cx0L0xxJU5dKXcsMzz-sImHZ=s64",
      "userId": "03663604814907636288"
     },
     "user_tz": -540
    },
    "id": "wRY35XdTfpka",
    "outputId": "2ebca2d1-32d2-4a3b-d2b0-d62ba0f601a4"
   },
   "outputs": [
    {
     "data": {
      "text/plain": [
       "tensor(64.)"
      ]
     },
     "execution_count": 14,
     "metadata": {},
     "output_type": "execute_result"
    }
   ],
   "source": [
    "a.grad"
   ]
  },
  {
   "cell_type": "code",
   "execution_count": null,
   "metadata": {
    "id": "uCBUl8tNftLM"
   },
   "outputs": [],
   "source": []
  }
 ],
 "metadata": {
  "colab": {
   "authorship_tag": "ABX9TyOE9c/C5A27Yuaez3lvxbGb",
   "name": "Untitled0.ipynb",
   "provenance": []
  },
  "kernelspec": {
   "display_name": "Python 3",
   "language": "python",
   "name": "python3"
  },
  "language_info": {
   "codemirror_mode": {
    "name": "ipython",
    "version": 3
   },
   "file_extension": ".py",
   "mimetype": "text/x-python",
   "name": "python",
   "nbconvert_exporter": "python",
   "pygments_lexer": "ipython3",
   "version": "3.7.4"
  }
 },
 "nbformat": 4,
 "nbformat_minor": 1
}
