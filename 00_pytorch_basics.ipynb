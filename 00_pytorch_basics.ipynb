{
  "nbformat": 4,
  "nbformat_minor": 0,
  "metadata": {
    "colab": {
      "name": "00_pytorch_basics.ipynb",
      "provenance": []
    },
    "kernelspec": {
      "name": "python3",
      "display_name": "Python 3"
    },
    "language_info": {
      "name": "python"
    }
  },
  "cells": [
    {
      "cell_type": "code",
      "metadata": {
        "id": "yHj3dR19YJj6"
      },
      "source": [
        "import torch"
      ],
      "execution_count": 1,
      "outputs": []
    },
    {
      "cell_type": "code",
      "metadata": {
        "colab": {
          "base_uri": "https://localhost:8080/"
        },
        "id": "IuN2d_4WrFFC",
        "outputId": "a034309e-433f-40b6-da2d-ee6459a87dd7"
      },
      "source": [
        "x = 3.5\n",
        "y = x*x + 2\n",
        "print(x, y)"
      ],
      "execution_count": 2,
      "outputs": [
        {
          "output_type": "stream",
          "text": [
            "3.5 14.25\n"
          ],
          "name": "stdout"
        }
      ]
    },
    {
      "cell_type": "code",
      "metadata": {
        "colab": {
          "base_uri": "https://localhost:8080/"
        },
        "id": "Lwlla1ttYQj5",
        "outputId": "69785118-13be-45f4-84e0-c359b8006bf8"
      },
      "source": [
        "x = torch.tensor(3.5)\n",
        "\n",
        "print(x)"
      ],
      "execution_count": 3,
      "outputs": [
        {
          "output_type": "stream",
          "text": [
            "tensor(3.5000)\n"
          ],
          "name": "stdout"
        }
      ]
    },
    {
      "cell_type": "code",
      "metadata": {
        "colab": {
          "base_uri": "https://localhost:8080/"
        },
        "id": "hiC8_U6nYaGI",
        "outputId": "6a8eee7b-3dfc-4b78-a438-bc370cc62561"
      },
      "source": [
        "y = x + 3\n",
        "print(y)"
      ],
      "execution_count": 4,
      "outputs": [
        {
          "output_type": "stream",
          "text": [
            "tensor(6.5000)\n"
          ],
          "name": "stdout"
        }
      ]
    },
    {
      "cell_type": "code",
      "metadata": {
        "colab": {
          "base_uri": "https://localhost:8080/"
        },
        "id": "OBRb9sx9YkV6",
        "outputId": "70256fc6-6b58-4357-fa2c-bfab5326d272"
      },
      "source": [
        "# pytorch tensor with gradient enabled\n",
        "\n",
        "x = torch.tensor(3.5, requires_grad=True)\n",
        "\n",
        "print(x)"
      ],
      "execution_count": 5,
      "outputs": [
        {
          "output_type": "stream",
          "text": [
            "tensor(3.5000, requires_grad=True)\n"
          ],
          "name": "stdout"
        }
      ]
    },
    {
      "cell_type": "code",
      "metadata": {
        "colab": {
          "base_uri": "https://localhost:8080/"
        },
        "id": "E1qEvmbfY-3M",
        "outputId": "1ef6dbf1-1ebc-432e-ad61-d1815212f072"
      },
      "source": [
        "# y is defined as a function of x\n",
        "\n",
        "y = (x-1) * (x-2) * (x-3)\n",
        "print(y)"
      ],
      "execution_count": 7,
      "outputs": [
        {
          "output_type": "stream",
          "text": [
            "tensor(1.8750, grad_fn=<MulBackward0>)\n"
          ],
          "name": "stdout"
        }
      ]
    },
    {
      "cell_type": "code",
      "metadata": {
        "id": "Ig0vaH8fZLmq"
      },
      "source": [
        "# 기울기 계산\n",
        "\n",
        "y.backward()"
      ],
      "execution_count": 8,
      "outputs": []
    },
    {
      "cell_type": "code",
      "metadata": {
        "colab": {
          "base_uri": "https://localhost:8080/"
        },
        "id": "2TGZcDFwa5iU",
        "outputId": "017d9dd7-0eb3-4d7a-bbc7-351fc2d3818f"
      },
      "source": [
        "# x = 3.5일 때의 기울기\n",
        "\n",
        "x.grad"
      ],
      "execution_count": 9,
      "outputs": [
        {
          "output_type": "execute_result",
          "data": {
            "text/plain": [
              "tensor(5.7500)"
            ]
          },
          "metadata": {
            "tags": []
          },
          "execution_count": 9
        }
      ]
    },
    {
      "cell_type": "code",
      "metadata": {
        "id": "x7RXmo37bQVN"
      },
      "source": [
        "# x, y, z에 관련된 간단한 그래프 설정\n",
        "\n",
        "x = torch.tensor(3.5, requires_grad=True)\n",
        "y = x*x\n",
        "z = 2*y + 3"
      ],
      "execution_count": 10,
      "outputs": []
    },
    {
      "cell_type": "code",
      "metadata": {
        "id": "k-rODsRVdKc-"
      },
      "source": [
        "z.backward()"
      ],
      "execution_count": 11,
      "outputs": []
    },
    {
      "cell_type": "code",
      "metadata": {
        "colab": {
          "base_uri": "https://localhost:8080/"
        },
        "id": "fJ4j9Zy0dQGp",
        "outputId": "dc19f13e-89de-4880-efd3-85fc5bf13ca4"
      },
      "source": [
        "# x = 3.5일 때의 기울기\n",
        "\n",
        "print(x.grad)"
      ],
      "execution_count": 13,
      "outputs": [
        {
          "output_type": "stream",
          "text": [
            "tensor(14.)\n"
          ],
          "name": "stdout"
        }
      ]
    },
    {
      "cell_type": "code",
      "metadata": {
        "id": "GiL3MAl2dTW6"
      },
      "source": [
        "# x,y,z에 관련된 간단한 그래프 설정\n",
        "\n",
        "a = torch.tensor(2.0, requires_grad=True)\n",
        "b = torch.tensor(1.0, requires_grad=True)\n",
        "\n",
        "x = 2*a + 3*b\n",
        "y = 5*a*a + 3*b*b*b\n",
        "z = 2*x + 3*y"
      ],
      "execution_count": 14,
      "outputs": []
    },
    {
      "cell_type": "code",
      "metadata": {
        "id": "dJAGPxSnfA5Q"
      },
      "source": [
        "# 기울기 계산\n",
        "\n",
        "z.backward()"
      ],
      "execution_count": 15,
      "outputs": []
    },
    {
      "cell_type": "code",
      "metadata": {
        "colab": {
          "base_uri": "https://localhost:8080/"
        },
        "id": "wRY35XdTfpka",
        "outputId": "ff59c51a-32d9-4659-abc4-98ff44d313f3"
      },
      "source": [
        "# a = 2.0일 때의 기울기\n",
        "\n",
        "a.grad"
      ],
      "execution_count": 16,
      "outputs": [
        {
          "output_type": "execute_result",
          "data": {
            "text/plain": [
              "tensor(64.)"
            ]
          },
          "metadata": {
            "tags": []
          },
          "execution_count": 16
        }
      ]
    },
    {
      "cell_type": "code",
      "metadata": {
        "id": "uCBUl8tNftLM"
      },
      "source": [
        ""
      ],
      "execution_count": null,
      "outputs": []
    }
  ]
}