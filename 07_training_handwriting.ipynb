{
  "nbformat": 4,
  "nbformat_minor": 0,
  "metadata": {
    "colab": {
      "name": "07_training_handwriting.ipynb",
      "provenance": [],
      "mount_file_id": "1fPXLmJRv5TAnEUC49TJb378CUhv3Xxkx",
      "authorship_tag": "ABX9TyM5x1y+cMj7nIAldDNA1KLo",
      "include_colab_link": true
    },
    "kernelspec": {
      "name": "python3",
      "display_name": "Python 3"
    },
    "language_info": {
      "name": "python"
    }
  },
  "cells": [
    {
      "cell_type": "markdown",
      "metadata": {
        "id": "view-in-github",
        "colab_type": "text"
      },
      "source": [
        "<a href=\"https://colab.research.google.com/github/mucollabo/firstGAN/blob/main/07_training_handwriting.ipynb\" target=\"_parent\"><img src=\"https://colab.research.google.com/assets/colab-badge.svg\" alt=\"Open In Colab\"/></a>"
      ]
    },
    {
      "cell_type": "markdown",
      "source": [
        "Handwritten Digits - MNIST GAN With Seed Experiments\n",
        "===\n",
        "#### Make Your First GAN With PyTorch, 20202\n"
      ],
      "metadata": {
        "id": "hOuh2lqmq_aZ"
      }
    },
    {
      "cell_type": "code",
      "execution_count": 1,
      "metadata": {
        "id": "cSMCUxUanXBb"
      },
      "outputs": [],
      "source": [
        "import torch\n",
        "import torch.nn as nn\n",
        "from torch.utils.data import Dataset\n",
        "\n",
        "import pandas as pd\n",
        "import numpy as np\n",
        "import random\n",
        "import matplotlib.pyplot as plt"
      ]
    },
    {
      "cell_type": "markdown",
      "source": [
        "Dataset class\n",
        "==="
      ],
      "metadata": {
        "id": "vPo8YOi5rbsF"
      }
    },
    {
      "cell_type": "code",
      "source": [
        "class MnistDataset(Dataset):\n",
        "\n",
        "  def __init__(self, csv_file):\n",
        "    self.data_df = pd.read_csv(csv_file, header=None)\n",
        "    pass\n",
        "\n",
        "  def __len__(self):\n",
        "    return len(self.data_df)\n",
        "\n",
        "  def __getitem__(self, index):\n",
        "    # 이미지 목표(레이블)\n",
        "    label = self.data_df.iloc[index, 0]\n",
        "    target = torch.zeros((10))\n",
        "    target[label] = 1.0\n",
        "\n",
        "    # 0~255의 이미지를 0~1로 정규화\n",
        "    image_values = torch.FloatTensor(self.data_df.iloc[index, 1:].values)\n",
        "\n",
        "    # 레이블, 이미지 데이터 텐서, 목표 텐서 반환\n",
        "    return label, image_values, target\n",
        "\n",
        "  def plot_image(self, index):\n",
        "    img = self.data_df.iloc[index, 1:].values.reshape(28, 28)\n",
        "    plt.title(\"label = \" + str(self.data_df.iloc[index, 0]))\n",
        "    plt.imshow(img, interpolation='none', cmap='Blues')\n",
        "    pass\n",
        "\n",
        "  pass\n"
      ],
      "metadata": {
        "id": "Vk9pVYSdp_b-"
      },
      "execution_count": 3,
      "outputs": []
    },
    {
      "cell_type": "code",
      "source": [
        "# load data\n",
        "mnist_dataset = MnistDataset(\"/content/drive/MyDrive/ColabNotebooks/myo_gan/mnist_data/mnist_train.csv\")"
      ],
      "metadata": {
        "id": "LN906uovn56N"
      },
      "execution_count": 4,
      "outputs": []
    },
    {
      "cell_type": "code",
      "source": [
        "# check data contain images\n",
        "mnist_dataset.plot_image(17)"
      ],
      "metadata": {
        "colab": {
          "base_uri": "https://localhost:8080/",
          "height": 281
        },
        "id": "oZeWb-8Woq3a",
        "outputId": "dba976ef-5406-4d36-8381-660159d85286"
      },
      "execution_count": 5,
      "outputs": [
        {
          "output_type": "display_data",
          "data": {
            "text/plain": [
              "<Figure size 432x288 with 1 Axes>"
            ],
            "image/png": "[encoded data removed]"
          },
          "metadata": {
            "needs_background": "light"
          }
        }
      ]
    },
    {
      "cell_type": "markdown",
      "source": [
        "Data Functions\n",
        "==="
      ],
      "metadata": {
        "id": "xDN7j5raqlq_"
      }
    },
    {
      "cell_type": "code",
      "source": [
        "# functions to generate random data\n",
        "\n",
        "def generate_random_image(size):\n",
        "  random_data = torch.rand(size)\n",
        "  return random_data\n",
        "\n",
        "def generate_random_seed(size):\n",
        "  random_data = torch.randn(size)\n",
        "  return random_data"
      ],
      "metadata": {
        "id": "yRnEOfqBrn_3"
      },
      "execution_count": 6,
      "outputs": []
    },
    {
      "cell_type": "markdown",
      "source": [
        "Discriminator Network\n",
        "==="
      ],
      "metadata": {
        "id": "Qu02mV9FsD7h"
      }
    },
    {
      "cell_type": "code",
      "source": [
        "from pandas.core.frame import DataFrame\n",
        "# discriminator class\n",
        "\n",
        "class Discriminator(nn.Module):\n",
        "\n",
        "  def __init__(self):\n",
        "    # initialise parent pytorch class\n",
        "    super().__init__()\n",
        "\n",
        "    # define neural network layers\n",
        "    self.model = nn.Sequential(\n",
        "        nn.Linear(784, 200),\n",
        "        nn.Sigmoid(),\n",
        "        nn.Linear(200, 1),\n",
        "        nn.Sigmoid()\n",
        "    )\n",
        "\n",
        "    # create loss function\n",
        "    self.loss_function = nn.BCELoss()\n",
        "\n",
        "    # create optimiser, simple stochastic gradient descent\n",
        "    self.optimiser = torch.optim.Adam(self.parameters(), lr=0.001)\n",
        "\n",
        "    # counter and accumulator for progress\n",
        "    self.counter = 0\n",
        "    self.progress = []\n",
        "\n",
        "    pass\n",
        "\n",
        "  def forward(self, inputs):\n",
        "    # simply run model\n",
        "    return self.model(inputs)\n",
        "\n",
        "  def train(self, inputs, targets):\n",
        "    # calculate the output of the network\n",
        "    outputs = self.forward(inputs)\n",
        "\n",
        "    # calculate loss\n",
        "    loss = self.loss_function(outputs, targets)\n",
        "\n",
        "    # increase counter and accumulate error every 10\n",
        "    self.counter += 1\n",
        "    if (self.counter % 10 == 0):\n",
        "      self.progress.append(loss.item())\n",
        "      pass\n",
        "    if (self.counter % 10000 == 0):\n",
        "      print(\"counter = \", self.counter)\n",
        "      pass\n",
        "\n",
        "    # zero gradients, perform a backward pass, update weights\n",
        "    self.optimiser.zero_grad()\n",
        "    loss.backward()\n",
        "    self.optimiser.step()\n",
        "\n",
        "    pass\n",
        "\n",
        "  def plot_progress(self):\n",
        "    df = pd.DataFrame(self.progress, columns=['loss'])\n",
        "    df.plot(ylim=(0), figsize=(16, 8), alpha=0.1, marker='.', grid=True, yticks=(0, 0.25, 0.5, 1.0, 5.0))\n",
        "    pass\n",
        "\n",
        "  pass"
      ],
      "metadata": {
        "id": "itY3m8mqsJTs"
      },
      "execution_count": 7,
      "outputs": []
    },
    {
      "cell_type": "markdown",
      "source": [
        "Test Discriminator\n",
        "==="
      ],
      "metadata": {
        "id": "LUmtBZ07wDz1"
      }
    },
    {
      "cell_type": "code",
      "source": [
        "%%time\n",
        "# test dicriminator can seperate real data from random noise\n",
        "\n",
        "D = Discriminator()\n",
        "\n",
        "for label, image_data_tensor, target_tensor in mnist_dataset:\n",
        "  # real data\n",
        "  D.train(image_data_tensor, torch.FloatTensor([1.0]))\n",
        "  # fake data\n",
        "  D.train(generate_random_image(784), torch.FloatTensor([0.0]))\n",
        "  pass\n"
      ],
      "metadata": {
        "colab": {
          "base_uri": "https://localhost:8080/"
        },
        "id": "U8Y1lzRGwItP",
        "outputId": "9e690939-7654-4299-d056-4bd33b27faa2"
      },
      "execution_count": 8,
      "outputs": [
        {
          "output_type": "stream",
          "name": "stdout",
          "text": [
            "counter =  10000\n",
            "counter =  20000\n",
            "counter =  30000\n",
            "counter =  40000\n",
            "counter =  50000\n",
            "counter =  60000\n",
            "counter =  70000\n",
            "counter =  80000\n",
            "counter =  90000\n",
            "counter =  100000\n",
            "counter =  110000\n",
            "counter =  120000\n",
            "CPU times: user 6min, sys: 4.37 s, total: 6min 4s\n",
            "Wall time: 6min 4s\n"
          ]
        }
      ]
    },
    {
      "cell_type": "code",
      "source": [
        "D.plot_progress()"
      ],
      "metadata": {
        "colab": {
          "base_uri": "https://localhost:8080/",
          "height": 467
        },
        "id": "mojaYq4oxOxW",
        "outputId": "d0b9d1ea-ffea-4f2f-c0df-181d880ddd63"
      },
      "execution_count": 9,
      "outputs": [
        {
          "output_type": "display_data",
          "data": {
            "text/plain": [
              "<Figure size 1152x576 with 1 Axes>"
            ],
            "image/png": "[encoded data removed]"
          },
          "metadata": {
            "needs_background": "light"
          }
        }
      ]
    },
    {
      "cell_type": "code",
      "source": [
        "# manually run discriminator to check it can tell real data from fake\n",
        "\n",
        "for i in range(4):\n",
        "  image_data_tensor = mnist_dataset[random.randint(0, 60000)][1]\n",
        "  print(D.forward(image_data_tensor).item())\n",
        "  pass\n",
        "\n",
        "for i in range(4):\n",
        "  print(D.forward(generate_random_image(784)).item())\n",
        "  pass"
      ],
      "metadata": {
        "colab": {
          "base_uri": "https://localhost:8080/"
        },
        "id": "S1ewTca-yzB-",
        "outputId": "ae091ed8-8cc9-4362-9943-206f0820e78f"
      },
      "execution_count": 10,
      "outputs": [
        {
          "output_type": "stream",
          "name": "stdout",
          "text": [
            "1.0\n",
            "1.0\n",
            "1.0\n",
            "1.0\n",
            "1.7544524860690913e-11\n",
            "1.776352676063908e-11\n",
            "1.7503746715941126e-11\n",
            "1.7660286427689798e-11\n"
          ]
        }
      ]
    },
    {
      "cell_type": "code",
      "source": [
        ""
      ],
      "metadata": {
        "id": "64o_BqpEzpgM"
      },
      "execution_count": null,
      "outputs": []
    }
  ]
}